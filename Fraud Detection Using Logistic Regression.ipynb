{
 "cells": [
  {
   "cell_type": "code",
   "execution_count": 1,
   "id": "eb455077-33bd-4d33-bebd-544d0a29086d",
   "metadata": {},
   "outputs": [],
   "source": [
    "import pandas as pd\n",
    "import numpy as np\n",
    "import matplotlib.pyplot as plt\n",
    "from sklearn.preprocessing import LabelEncoder\n",
    "from sklearn.preprocessing import MinMaxScaler\n",
    "from sklearn.model_selection import train_test_split\n",
    "from sklearn.linear_model import LogisticRegression\n",
    "from sklearn.metrics import classification_report\n",
    "from imblearn.under_sampling import RandomUnderSampler\n",
    "from sklearn.metrics import confusion_matrix\n",
    "from imblearn.over_sampling import ADASYN\n",
    "from joblib import parallel_backend"
   ]
  },
  {
   "cell_type": "code",
   "execution_count": 2,
   "id": "584f08e6-4b26-4689-8ebf-cc1be6934445",
   "metadata": {},
   "outputs": [],
   "source": [
    "#Function to calculate Z score\n",
    "def calculateZScore(row):\n",
    "    card_number = row['Card Number']\n",
    "    mean_amount = cardStats[card_number]['Mean Amount']\n",
    "    std_amount = cardStats[card_number]['Std Amount']\n",
    "    zScore = (row['Amount'] - mean_amount) / std_amount\n",
    "    return zScore"
   ]
  },
  {
   "cell_type": "code",
   "execution_count": 3,
   "id": "06a3ef04-f341-41a2-a6bd-07a8096b5d93",
   "metadata": {},
   "outputs": [],
   "source": [
    "#Read from file, change columns\n",
    "file_path1 = r\"C:\\Users\\youss\\Desktop\\FraudDetection\\fraudTrain.csv\"\n",
    "file_path2 = r\"C:\\Users\\youss\\Desktop\\FraudDetection\\fraudTest.csv\"\n",
    "\n",
    "df = pd.read_csv(file_path1)\n",
    "#df2 = pd.read_csv(file_path2)\n",
    "#df = pd.concat([df1, df2], ignore_index=True)\n",
    "\n",
    "df.set_index('trans_num', inplace = True)\n",
    "df = df.drop('ID', axis = 1)\n",
    "df = df.drop('firstName', axis = 1)\n",
    "df = df.drop('lastName', axis = 1)\n",
    "df = df.drop('merchant', axis = 1) #Remove merchant, too many different labels"
   ]
  },
  {
   "cell_type": "code",
   "execution_count": 4,
   "id": "b299e428-6804-4a14-90ba-67b7ba120f54",
   "metadata": {},
   "outputs": [],
   "source": [
    "#Change time string to object\n",
    "df[\"Time\"] = pd.to_datetime(df[\"Time\"], errors='coerce')\n",
    "df.dropna(inplace=True)"
   ]
  },
  {
   "cell_type": "code",
   "execution_count": 5,
   "id": "0bf5c0dd-22c0-4445-b072-8f039415a607",
   "metadata": {},
   "outputs": [],
   "source": [
    "#Split time to Day of week, hour, and month\n",
    "df['Hour of Day'] = df['Time'].dt.hour\n",
    "df['Day of Week'] = df['Time'].dt.dayofweek\n",
    "df['Month'] = df['Time'].dt.month"
   ]
  },
  {
   "cell_type": "code",
   "execution_count": 6,
   "id": "6def130d-ec36-4fe2-9e10-7328ae2fe683",
   "metadata": {
    "scrolled": true
   },
   "outputs": [],
   "source": [
    "#Turn category into labels\n",
    "label_encoder = LabelEncoder()\n",
    "df['Category'] = label_encoder.fit_transform(df['category'])"
   ]
  },
  {
   "cell_type": "code",
   "execution_count": 7,
   "id": "65ad8bd9-12ce-4765-87ca-803de48da875",
   "metadata": {
    "scrolled": true
   },
   "outputs": [],
   "source": [
    "#Group data by card num\n",
    "grouped_by_card = df.groupby('Card Number')\n",
    "cardStats = {}\n",
    "\n",
    "#calculate standard deviation for each card\n",
    "for card, data in grouped_by_card:\n",
    "    mean = data['Amount'].mean()\n",
    "    std = data['Amount'].std()\n",
    "    cardStats[card] = {'Mean Amount': mean, 'Std Amount': std}\n",
    "\n",
    "#save data into a dictionary to potentially be used\n",
    "cardStatsDf = pd.DataFrame.from_dict(cardStats, orient='index')\n",
    "cardStatsDf.to_csv('CardStats.csv')"
   ]
  },
  {
   "cell_type": "code",
   "execution_count": 8,
   "id": "975faa37-e1f3-4dde-8d48-b2338e5e8dcd",
   "metadata": {},
   "outputs": [],
   "source": [
    "#Apply Z Score Function\n",
    "df['Z Score'] = df.apply(calculateZScore, axis = 1)"
   ]
  },
  {
   "cell_type": "code",
   "execution_count": 9,
   "id": "c1390ee6-a5e8-4e31-b3ba-abb117dacd3a",
   "metadata": {},
   "outputs": [],
   "source": [
    "#sort data by time\n",
    "df_sorted = df.sort_values(by=['Card Number', 'Time'])\n",
    "\n",
    "#.diff() calculates the difference between consecutive entries\n",
    "df['Time Difference'] = df_sorted.groupby('Card Number')['Time'].diff().dt.total_seconds() \n",
    "median = df['Time Difference'].median()\n",
    "df['Time Difference'] = df['Time Difference'].fillna(median)\n",
    "\n",
    "#Log transform and normalize, try different combinations to find best accuracy\n",
    "scaler = MinMaxScaler()\n",
    "df['Log Time Difference'] = np.log(df['Time Difference'] + 1) #adding 1 to deal with log(0)\n",
    "df['Normalized Log Time Difference'] = scaler.fit_transform(df[['Time Difference']])"
   ]
  },
  {
   "cell_type": "code",
   "execution_count": 10,
   "id": "3801ebc3-f1ec-4f55-aafe-2b959faeaca4",
   "metadata": {},
   "outputs": [],
   "source": [
    "#Log transform and normalize, try different combinations to find best accuracy\n",
    "scaler = MinMaxScaler()\n",
    "df['Log Transformed Amount'] = np.log10(df['Amount'])\n",
    "df['Normalized Log Amount'] = scaler.fit_transform(df[['Log Transformed Amount']])"
   ]
  },
  {
   "cell_type": "code",
   "execution_count": 11,
   "id": "9518459a-ab59-4252-8a3a-8a03b4c59839",
   "metadata": {},
   "outputs": [],
   "source": [
    "#drop unneeded data\n",
    "df = df.drop(\"Amount\", axis = 1)\n",
    "df = df.drop(\"Time\", axis = 1)\n",
    "df = df.drop(\"Card Number\", axis = 1)\n",
    "df = df.drop(\"Log Transformed Amount\", axis = 1)\n",
    "df = df.drop(\"Time Difference\", axis = 1)\n",
    "df = df.drop(\"Log Time Difference\", axis = 1)\n",
    "df = df.drop(\"category\", axis = 1)"
   ]
  },
  {
   "cell_type": "code",
   "execution_count": 12,
   "id": "0bf05460-6f5a-4305-b02c-aeb164e83574",
   "metadata": {
    "scrolled": true
   },
   "outputs": [],
   "source": [
    "X = df[['Category', 'Hour of Day', 'Day of Week', 'Month', 'Z Score', 'Normalized Log Time Difference', 'Normalized Log Amount']]\n",
    "y = df['is_fraud']"
   ]
  },
  {
   "cell_type": "code",
   "execution_count": 13,
   "id": "440eb647-25a7-4ef9-acad-d20b8cfb1979",
   "metadata": {},
   "outputs": [],
   "source": [
    "X_train, X_test, y_train, y_test = train_test_split(X, y)"
   ]
  },
  {
   "cell_type": "code",
   "execution_count": 14,
   "id": "583a6475-5f58-4d7e-bd9a-3d4fcd6b0adf",
   "metadata": {},
   "outputs": [],
   "source": [
    "adasyn = ADASYN(random_state=42)\n",
    "X_train_resampled, y_train_resampled = adasyn.fit_resample(X_train, y_train)"
   ]
  },
  {
   "cell_type": "code",
   "execution_count": 15,
   "id": "66a10ed2-e847-41e5-970c-c239b174c30e",
   "metadata": {},
   "outputs": [],
   "source": [
    "#model = LogisticRegression(class_weight='balanced', C=, penalty='l1', solver='liblinear')\n",
    "model = LogisticRegression(class_weight='balanced', penalty='elasticnet', solver='saga', l1_ratio=0.5, max_iter=2000)\n",
    "with parallel_backend('threading', n_jobs=-1):\n",
    "    model.fit(X_train_resampled, y_train_resampled)"
   ]
  },
  {
   "cell_type": "code",
   "execution_count": 16,
   "id": "3663dd72-5024-495a-a0b8-e4b11d93ef92",
   "metadata": {},
   "outputs": [
    {
     "ename": "NameError",
     "evalue": "name 'model' is not defined",
     "output_type": "error",
     "traceback": [
      "\u001b[1;31m---------------------------------------------------------------------------\u001b[0m",
      "\u001b[1;31mNameError\u001b[0m                                 Traceback (most recent call last)",
      "Cell \u001b[1;32mIn[16], line 1\u001b[0m\n\u001b[1;32m----> 1\u001b[0m y_prob \u001b[38;5;241m=\u001b[39m \u001b[43mmodel\u001b[49m\u001b[38;5;241m.\u001b[39mpredict_proba(X_test)[:, \u001b[38;5;241m1\u001b[39m]\n\u001b[0;32m      2\u001b[0m y_hat \u001b[38;5;241m=\u001b[39m (y_prob \u001b[38;5;241m>\u001b[39m \u001b[38;5;241m0.5\u001b[39m)\u001b[38;5;241m.\u001b[39mastype(\u001b[38;5;28mint\u001b[39m)\n\u001b[0;32m      4\u001b[0m conf_matrix_custom \u001b[38;5;241m=\u001b[39m confusion_matrix(y_test, y_hat)\n",
      "\u001b[1;31mNameError\u001b[0m: name 'model' is not defined"
     ]
    }
   ],
   "source": [
    "y_prob = model.predict_proba(X_test)[:, 1]\n",
    "y_hat = (y_prob > 0.5).astype(int)\n",
    "\n",
    "conf_matrix_custom = confusion_matrix(y_test, y_hat)\n",
    "TP = conf_matrix_custom[1, 1]\n",
    "FP = conf_matrix_custom[0, 1]\n",
    "TN = conf_matrix_custom[0, 0]\n",
    "FN = conf_matrix_custom[1, 0]\n",
    "\n",
    "accuracy = (TP + TN) / (TP + FP + TN + FN)\n",
    "precision = TP / (TP + FP)\n",
    "recall = TP / (TP + FN)\n",
    "F1_score = (precision * recall) / (precision + recall)\n",
    "\n",
    "print(f\"Accuracy: {accuracy}\")\n",
    "print(f\"Precision: {precision}\")\n",
    "print(f\"Recall: {recall}\")\n",
    "print(f\"F1 Score: {F1_score}\")\n",
    "print(f\"TP: {TP}\")\n",
    "print(f\"TN: {TN}\")\n",
    "print(f\"FP: {FP}\")\n",
    "print(f\"FN: {FN}\")"
   ]
  },
  {
   "cell_type": "code",
   "execution_count": null,
   "id": "2e3bde77-6cd5-46b9-bd6e-f6a15a47940b",
   "metadata": {},
   "outputs": [],
   "source": []
  }
 ],
 "metadata": {
  "kernelspec": {
   "display_name": "Python 3 (ipykernel)",
   "language": "python",
   "name": "python3"
  },
  "language_info": {
   "codemirror_mode": {
    "name": "ipython",
    "version": 3
   },
   "file_extension": ".py",
   "mimetype": "text/x-python",
   "name": "python",
   "nbconvert_exporter": "python",
   "pygments_lexer": "ipython3",
   "version": "3.12.2"
  }
 },
 "nbformat": 4,
 "nbformat_minor": 5
}
